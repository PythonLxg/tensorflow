{
 "cells": [
  {
   "cell_type": "code",
   "execution_count": 1,
   "metadata": {},
   "outputs": [
    {
     "name": "stdout",
     "output_type": "stream",
     "text": [
      "Downloading data from https://storage.googleapis.com/tensorflow/tf-keras-datasets/imdb.npz\n",
      "17465344/17464789 [==============================] - 46s 3us/step\n"
     ]
    }
   ],
   "source": [
    "import tensorflow as tf\n",
    "import numpy as np\n",
    "from tensorflow import keras\n",
    "\n",
    "# 文本分类\n",
    "# 下载数据\n",
    "imdb = keras.datasets.imdb\n",
    "(train_data, train_labels), (test_data, test_labels) = imdb.load_data(num_words=10000)  # 留训练数据中出现频次在前 10000 位的字词"
   ]
  },
  {
   "cell_type": "code",
   "execution_count": 2,
   "metadata": {},
   "outputs": [
    {
     "name": "stdout",
     "output_type": "stream",
     "text": [
      "Training entries:25000, label:25000\n",
      "[1, 14, 22, 16, 43, 530, 973, 1622, 1385, 65, 458, 4468, 66, 3941, 4, 173, 36, 256, 5, 25, 100, 43, 838, 112, 50, 670, 2, 9, 35, 480, 284, 5, 150, 4, 172, 112, 167, 2, 336, 385, 39, 4, 172, 4536, 1111, 17, 546, 38, 13, 447, 4, 192, 50, 16, 6, 147, 2025, 19, 14, 22, 4, 1920, 4613, 469, 4, 22, 71, 87, 12, 16, 43, 530, 38, 76, 15, 13, 1247, 4, 22, 17, 515, 17, 12, 16, 626, 18, 2, 5, 62, 386, 12, 8, 316, 8, 106, 5, 4, 2223, 5244, 16, 480, 66, 3785, 33, 4, 130, 12, 16, 38, 619, 5, 25, 124, 51, 36, 135, 48, 25, 1415, 33, 6, 22, 12, 215, 28, 77, 52, 5, 14, 407, 16, 82, 2, 8, 4, 107, 117, 5952, 15, 256, 4, 2, 7, 3766, 5, 723, 36, 71, 43, 530, 476, 26, 400, 317, 46, 7, 4, 2, 1029, 13, 104, 88, 4, 381, 15, 297, 98, 32, 2071, 56, 26, 141, 6, 194, 7486, 18, 4, 226, 22, 21, 134, 476, 26, 480, 5, 144, 30, 5535, 18, 51, 36, 28, 224, 92, 25, 104, 4, 226, 65, 16, 38, 1334, 88, 12, 16, 283, 5, 16, 4472, 113, 103, 32, 15, 16, 5345, 19, 178, 32]\n"
     ]
    }
   ],
   "source": [
    "# 探索数据\n",
    "print('Training entries:{}, label:{}'.format(len(train_data), len(train_labels)))\n",
    "print(train_data[0])  # 影评用整数表示"
   ]
  },
  {
   "cell_type": "code",
   "execution_count": 3,
   "metadata": {},
   "outputs": [
    {
     "data": {
      "text/plain": [
       "(218, 189)"
      ]
     },
     "execution_count": 3,
     "metadata": {},
     "output_type": "execute_result"
    }
   ],
   "source": [
    "len(train_data[0]), len(train_data[1])  # 每条影评长度不一样"
   ]
  },
  {
   "cell_type": "code",
   "execution_count": 4,
   "metadata": {},
   "outputs": [
    {
     "name": "stdout",
     "output_type": "stream",
     "text": [
      "Downloading data from https://storage.googleapis.com/tensorflow/tf-keras-datasets/imdb_word_index.json\n",
      "1646592/1641221 [==============================] - 3s 2us/step\n"
     ]
    }
   ],
   "source": [
    "# 创建整数到字符串映射的字典对象：\n",
    "word_index = imdb.get_word_index()\n",
    "\n",
    "word_index = {k:(v+3) for k,v in word_index.items()}\n",
    "word_index[\"<PAD>\"] = 0\n",
    "word_index[\"<START>\"] = 1\n",
    "word_index[\"<UNK>\"] = 2\n",
    "word_index[\"<UNUSED>\"] = 3\n",
    "\n",
    "reverse_word_index = dict([(value, key) for (key, value) in word_index.items()])\n",
    "\n",
    "def decode_review(text):\n",
    "    return ' '.join([reverse_word_index.get(i, '?') for i in text])"
   ]
  },
  {
   "cell_type": "code",
   "execution_count": 10,
   "metadata": {},
   "outputs": [
    {
     "name": "stdout",
     "output_type": "stream",
     "text": [
      "<START> this film was just brilliant casting location scenery story direction everyone's really suited the part they played and you could just imagine being there robert <UNK> is an amazing actor and now the same being director <UNK> father came from the same scottish island as myself so i loved the fact there was a real connection with this film the witty remarks throughout the film were great it was just brilliant so much that i bought the film as soon as it was released for <UNK> and would recommend it to everyone to watch and the fly fishing was amazing really cried at the end it was so sad and you know what they say if you cry at a film it must have been good and this definitely was also <UNK> to the two little boy's that played the <UNK> of norman and paul they were just brilliant children are often left out of the <UNK> list i think because the stars that play them all grown up are such a big profile for the whole film but these children are amazing and should be praised for what they have done don't you think the whole story was so lovely because it was true and was someone's life after all that was shared with us all <PAD> <PAD> <PAD> <PAD> <PAD> <PAD> <PAD> <PAD> <PAD> <PAD> <PAD> <PAD> <PAD> <PAD> <PAD> <PAD> <PAD> <PAD> <PAD> <PAD> <PAD> <PAD> <PAD> <PAD> <PAD> <PAD> <PAD> <PAD> <PAD> <PAD> <PAD> <PAD> <PAD> <PAD> <PAD> <PAD> <PAD> <PAD>\n"
     ]
    }
   ],
   "source": [
    "print(decode_review(train_data[0]))  # 显示第一条影评的内容"
   ]
  },
  {
   "cell_type": "code",
   "execution_count": 6,
   "metadata": {},
   "outputs": [],
   "source": [
    "# 由于影评的长度必须相同，我们将使用 pad_sequences 函数将长度标准化\n",
    "train_data = keras.preprocessing.sequence.pad_sequences(train_data,  # 不足256的会被<PAD>填充\n",
    "                                                        value=word_index[\"<PAD>\"],\n",
    "                                                        padding='post',\n",
    "                                                        maxlen=256)\n",
    "\n",
    "test_data = keras.preprocessing.sequence.pad_sequences(test_data,\n",
    "                                                       value=word_index[\"<PAD>\"],\n",
    "                                                       padding='post',\n",
    "                                                       maxlen=256)"
   ]
  },
  {
   "cell_type": "code",
   "execution_count": 11,
   "metadata": {},
   "outputs": [
    {
     "data": {
      "text/plain": [
       "(256, 256)"
      ]
     },
     "execution_count": 11,
     "metadata": {},
     "output_type": "execute_result"
    }
   ],
   "source": [
    "len(train_data[0]), len(test_data[1])"
   ]
  },
  {
   "cell_type": "code",
   "execution_count": 12,
   "metadata": {},
   "outputs": [
    {
     "name": "stdout",
     "output_type": "stream",
     "text": [
      "_________________________________________________________________\n",
      "Layer (type)                 Output Shape              Param #   \n",
      "=================================================================\n",
      "embedding (Embedding)        (None, None, 16)          160000    \n",
      "_________________________________________________________________\n",
      "global_average_pooling1d (Gl (None, 16)                0         \n",
      "_________________________________________________________________\n",
      "dense (Dense)                (None, 16)                272       \n",
      "_________________________________________________________________\n",
      "dense_1 (Dense)              (None, 1)                 17        \n",
      "=================================================================\n",
      "Total params: 160,289\n",
      "Trainable params: 160,289\n",
      "Non-trainable params: 0\n",
      "_________________________________________________________________\n"
     ]
    }
   ],
   "source": [
    "# 构建模型\n",
    "vocab_size = 10000\n",
    "\n",
    "model = keras.Sequential()\n",
    "# 该层会在整数编码的词汇表中查找每个字词-索引的嵌入向量\n",
    "model.add(keras.layers.Embedding(vocab_size, 16))  # 生成的维度为：(batch, sequence, embedding)\n",
    "model.add(keras.layers.GlobalAveragePooling1D())  # 对序列维度求平均值\n",
    "model.add(keras.layers.Dense(16, activation=tf.nn.relu))\n",
    "model.add(keras.layers.Dense(1, activation=tf.nn.sigmoid))\n",
    "\n",
    "model.summary()"
   ]
  },
  {
   "cell_type": "code",
   "execution_count": 14,
   "metadata": {},
   "outputs": [],
   "source": [
    "# 编译模型\n",
    "model.compile(optimizer=tf.train.AdamOptimizer(),\n",
    "              loss='binary_crossentropy',  #  不用mean_squared_error而用binary_crossentropy 因为其更适合处理概率问题\n",
    "              metrics=['accuracy'])"
   ]
  },
  {
   "cell_type": "code",
   "execution_count": 15,
   "metadata": {},
   "outputs": [],
   "source": [
    "# 创建验证集\n",
    "x_val = train_data[: 10000]\n",
    "partial_x_train = train_data[10000: ]\n",
    "\n",
    "y_val = train_labels[: 10000]\n",
    "partial_y_train = train_labels[10000: ]"
   ]
  },
  {
   "cell_type": "code",
   "execution_count": 16,
   "metadata": {
    "scrolled": true
   },
   "outputs": [
    {
     "name": "stdout",
     "output_type": "stream",
     "text": [
      "Train on 15000 samples, validate on 10000 samples\n",
      "Epoch 1/40\n",
      "15000/15000 [==============================] - 1s 88us/step - loss: 0.6923 - acc: 0.5161 - val_loss: 0.6907 - val_acc: 0.5244\n",
      "Epoch 2/40\n",
      "15000/15000 [==============================] - 1s 50us/step - loss: 0.6866 - acc: 0.5611 - val_loss: 0.6826 - val_acc: 0.6674\n",
      "Epoch 3/40\n",
      "15000/15000 [==============================] - 1s 50us/step - loss: 0.6741 - acc: 0.6795 - val_loss: 0.6676 - val_acc: 0.7069\n",
      "Epoch 4/40\n",
      "15000/15000 [==============================] - 1s 51us/step - loss: 0.6529 - acc: 0.7461 - val_loss: 0.6445 - val_acc: 0.7222\n",
      "Epoch 5/40\n",
      "15000/15000 [==============================] - 1s 54us/step - loss: 0.6225 - acc: 0.7721 - val_loss: 0.6124 - val_acc: 0.7729\n",
      "Epoch 6/40\n",
      "15000/15000 [==============================] - 1s 57us/step - loss: 0.5830 - acc: 0.8057 - val_loss: 0.5723 - val_acc: 0.8092\n",
      "Epoch 7/40\n",
      "15000/15000 [==============================] - 1s 54us/step - loss: 0.5363 - acc: 0.8320 - val_loss: 0.5292 - val_acc: 0.8206\n",
      "Epoch 8/40\n",
      "15000/15000 [==============================] - 1s 51us/step - loss: 0.4885 - acc: 0.8497 - val_loss: 0.4867 - val_acc: 0.8339\n",
      "Epoch 9/40\n",
      "15000/15000 [==============================] - 1s 59us/step - loss: 0.4433 - acc: 0.8607 - val_loss: 0.4483 - val_acc: 0.8453\n",
      "Epoch 10/40\n",
      "15000/15000 [==============================] - 1s 55us/step - loss: 0.4024 - acc: 0.8747 - val_loss: 0.4158 - val_acc: 0.8521\n",
      "Epoch 11/40\n",
      "15000/15000 [==============================] - 1s 52us/step - loss: 0.3678 - acc: 0.8831 - val_loss: 0.3917 - val_acc: 0.8570\n",
      "Epoch 12/40\n",
      "15000/15000 [==============================] - 1s 52us/step - loss: 0.3392 - acc: 0.8883 - val_loss: 0.3677 - val_acc: 0.8646\n",
      "Epoch 13/40\n",
      "15000/15000 [==============================] - 1s 53us/step - loss: 0.3135 - acc: 0.8975 - val_loss: 0.3514 - val_acc: 0.8690\n",
      "Epoch 14/40\n",
      "15000/15000 [==============================] - 1s 54us/step - loss: 0.2924 - acc: 0.9021 - val_loss: 0.3370 - val_acc: 0.8734\n",
      "Epoch 15/40\n",
      "15000/15000 [==============================] - 1s 56us/step - loss: 0.2744 - acc: 0.9076 - val_loss: 0.3261 - val_acc: 0.8763\n",
      "Epoch 16/40\n",
      "15000/15000 [==============================] - 1s 55us/step - loss: 0.2590 - acc: 0.9113 - val_loss: 0.3172 - val_acc: 0.8779\n",
      "Epoch 17/40\n",
      "15000/15000 [==============================] - 1s 56us/step - loss: 0.2443 - acc: 0.9175 - val_loss: 0.3100 - val_acc: 0.8791\n",
      "Epoch 18/40\n",
      "15000/15000 [==============================] - 1s 51us/step - loss: 0.2317 - acc: 0.9221 - val_loss: 0.3041 - val_acc: 0.8808\n",
      "Epoch 19/40\n",
      "15000/15000 [==============================] - 1s 52us/step - loss: 0.2199 - acc: 0.9254 - val_loss: 0.2993 - val_acc: 0.8819\n",
      "Epoch 20/40\n",
      "15000/15000 [==============================] - 1s 54us/step - loss: 0.2096 - acc: 0.9283 - val_loss: 0.2954 - val_acc: 0.8835\n",
      "Epoch 21/40\n",
      "15000/15000 [==============================] - 1s 57us/step - loss: 0.1996 - acc: 0.9319 - val_loss: 0.2924 - val_acc: 0.8840\n",
      "Epoch 22/40\n",
      "15000/15000 [==============================] - 1s 54us/step - loss: 0.1904 - acc: 0.9363 - val_loss: 0.2902 - val_acc: 0.8844\n",
      "Epoch 23/40\n",
      "15000/15000 [==============================] - 1s 57us/step - loss: 0.1821 - acc: 0.9406 - val_loss: 0.2892 - val_acc: 0.8843\n",
      "Epoch 24/40\n",
      "15000/15000 [==============================] - 1s 51us/step - loss: 0.1738 - acc: 0.9447 - val_loss: 0.2872 - val_acc: 0.8843\n",
      "Epoch 25/40\n",
      "15000/15000 [==============================] - 1s 52us/step - loss: 0.1665 - acc: 0.9475 - val_loss: 0.2863 - val_acc: 0.8851\n",
      "Epoch 26/40\n",
      "15000/15000 [==============================] - 1s 53us/step - loss: 0.1592 - acc: 0.9497 - val_loss: 0.2865 - val_acc: 0.8854\n",
      "Epoch 27/40\n",
      "15000/15000 [==============================] - 1s 51us/step - loss: 0.1531 - acc: 0.9529 - val_loss: 0.2868 - val_acc: 0.8854\n",
      "Epoch 28/40\n",
      "15000/15000 [==============================] - 1s 54us/step - loss: 0.1466 - acc: 0.9555 - val_loss: 0.2867 - val_acc: 0.8863\n",
      "Epoch 29/40\n",
      "15000/15000 [==============================] - 1s 54us/step - loss: 0.1407 - acc: 0.9567 - val_loss: 0.2872 - val_acc: 0.8860\n",
      "Epoch 30/40\n",
      "15000/15000 [==============================] - 1s 52us/step - loss: 0.1356 - acc: 0.9593 - val_loss: 0.2883 - val_acc: 0.8864\n",
      "Epoch 31/40\n",
      "15000/15000 [==============================] - 1s 52us/step - loss: 0.1294 - acc: 0.9618 - val_loss: 0.2900 - val_acc: 0.8861\n",
      "Epoch 32/40\n",
      "15000/15000 [==============================] - 1s 53us/step - loss: 0.1248 - acc: 0.9639 - val_loss: 0.2920 - val_acc: 0.8856\n",
      "Epoch 33/40\n",
      "15000/15000 [==============================] - 1s 59us/step - loss: 0.1192 - acc: 0.9666 - val_loss: 0.2939 - val_acc: 0.8857\n",
      "Epoch 34/40\n",
      "15000/15000 [==============================] - 1s 54us/step - loss: 0.1147 - acc: 0.9679 - val_loss: 0.2961 - val_acc: 0.8852\n",
      "Epoch 35/40\n",
      "15000/15000 [==============================] - 1s 54us/step - loss: 0.1107 - acc: 0.9687 - val_loss: 0.2979 - val_acc: 0.8864\n",
      "Epoch 36/40\n",
      "15000/15000 [==============================] - 1s 54us/step - loss: 0.1057 - acc: 0.9715 - val_loss: 0.3008 - val_acc: 0.8851\n",
      "Epoch 37/40\n",
      "15000/15000 [==============================] - 1s 54us/step - loss: 0.1018 - acc: 0.9723 - val_loss: 0.3036 - val_acc: 0.8847\n",
      "Epoch 38/40\n",
      "15000/15000 [==============================] - 1s 54us/step - loss: 0.0983 - acc: 0.9730 - val_loss: 0.3070 - val_acc: 0.8834\n",
      "Epoch 39/40\n",
      "15000/15000 [==============================] - 1s 52us/step - loss: 0.0939 - acc: 0.9754 - val_loss: 0.3096 - val_acc: 0.8840\n",
      "Epoch 40/40\n",
      "15000/15000 [==============================] - 1s 52us/step - loss: 0.0901 - acc: 0.9770 - val_loss: 0.3126 - val_acc: 0.8830\n"
     ]
    }
   ],
   "source": [
    "# 训练模型\n",
    "history = model.fit(partial_x_train,\n",
    "                    partial_y_train,\n",
    "                    epochs=40,\n",
    "                    batch_size=512,\n",
    "                    validation_data=(x_val, y_val),  # 监控模型在验证集的 10000 个样本上的损失和准确率\n",
    "                    verbose=1)"
   ]
  },
  {
   "cell_type": "code",
   "execution_count": 17,
   "metadata": {},
   "outputs": [
    {
     "name": "stdout",
     "output_type": "stream",
     "text": [
      "25000/25000 [==============================] - 0s 17us/step\n",
      "[0.3333446075439453, 0.87172]\n"
     ]
    }
   ],
   "source": [
    "# 评估模型\n",
    "result = model.evaluate(test_data, test_labels)\n",
    "print(result)  # 损失和准确率"
   ]
  },
  {
   "cell_type": "code",
   "execution_count": 18,
   "metadata": {},
   "outputs": [
    {
     "data": {
      "text/plain": [
       "dict_keys(['val_loss', 'val_acc', 'loss', 'acc'])"
      ]
     },
     "execution_count": 18,
     "metadata": {},
     "output_type": "execute_result"
    }
   ],
   "source": [
    "# model.fit() 返回一个 History 对象，该对象包含一个字典，其中包括训练期间发生的所有情况\n",
    "history_dict = history.history\n",
    "history_dict.keys()"
   ]
  },
  {
   "cell_type": "code",
   "execution_count": 26,
   "metadata": {},
   "outputs": [
    {
     "data": {
      "text/plain": [
       "<matplotlib.legend.Legend at 0x18ed939af28>"
      ]
     },
     "execution_count": 26,
     "metadata": {},
     "output_type": "execute_result"
    },
    {
     "data": {
      "image/png": "[encoded data removed]",
      "text/plain": [
       "<Figure size 432x288 with 1 Axes>"
      ]
     },
     "metadata": {
      "needs_background": "light"
     },
     "output_type": "display_data"
    }
   ],
   "source": [
    "import matplotlib.pyplot as plt\n",
    "\n",
    "acc = history.history['acc']\n",
    "val_acc = history.history['val_acc']\n",
    "loss = history.history['loss']\n",
    "val_loss = history.history['val_loss']\n",
    "\n",
    "epochs = range(1, len(acc) + 1)\n",
    "\n",
    "plt.plot(epochs, loss, 'bo', label='Training loss')\n",
    "plt.plot(epochs, val_loss, 'b', label='Validation loss')\n",
    "plt.title('Training and validation loss')\n",
    "plt.xlabel('Epochs')\n",
    "plt.ylabel('Loss')\n",
    "plt.legend()"
   ]
  },
  {
   "cell_type": "code",
   "execution_count": 27,
   "metadata": {},
   "outputs": [
    {
     "data": {
      "text/plain": [
       "<matplotlib.legend.Legend at 0x18ed9274080>"
      ]
     },
     "execution_count": 27,
     "metadata": {},
     "output_type": "execute_result"
    },
    {
     "data": {
      "image/png": "[encoded data removed]",
      "text/plain": [
       "<Figure size 432x288 with 1 Axes>"
      ]
     },
     "metadata": {
      "needs_background": "light"
     },
     "output_type": "display_data"
    }
   ],
   "source": [
    "plt.clf()   # clear figure\n",
    "acc_values = history_dict['acc']\n",
    "val_acc_values = history_dict['val_acc']\n",
    "\n",
    "plt.plot(epochs, acc, 'bo', label='Training acc')\n",
    "plt.plot(epochs, val_acc, 'b', label='Validation acc')\n",
    "plt.title('Training and validation accuracy')\n",
    "plt.xlabel('Epochs')\n",
    "plt.ylabel('Accuracy')\n",
    "plt.legend()"
   ]
  },
  {
   "cell_type": "code",
   "execution_count": null,
   "metadata": {},
   "outputs": [],
   "source": []
  }
 ],
 "metadata": {
  "kernelspec": {
   "display_name": "Python 3",
   "language": "python",
   "name": "python3"
  },
  "language_info": {
   "codemirror_mode": {
    "name": "ipython",
    "version": 3
   },
   "file_extension": ".py",
   "mimetype": "text/x-python",
   "name": "python",
   "nbconvert_exporter": "python",
   "pygments_lexer": "ipython3",
   "version": "3.6.7"
  }
 },
 "nbformat": 4,
 "nbformat_minor": 2
}
