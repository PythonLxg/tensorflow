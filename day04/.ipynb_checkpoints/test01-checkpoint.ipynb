{
 "cells": [
  {
   "cell_type": "code",
   "execution_count": 2,
   "metadata": {},
   "outputs": [
    {
     "name": "stdout",
     "output_type": "stream",
     "text": [
      "Tensor(\"Const_2:0\", shape=(), dtype=float32)\n",
      "Tensor(\"Const_3:0\", shape=(), dtype=float32)\n",
      "Tensor(\"Const_4:0\", shape=(), dtype=int32)\n",
      "Tensor(\"add_1:0\", shape=(), dtype=float32)\n"
     ]
    }
   ],
   "source": [
    "import numpy as np\n",
    "import tensorflow as tf\n",
    "\n",
    "a = tf.constant(3.0, dtype=tf.float32)\n",
    "b = tf.constant(4.0)  # 类型推导dtype=tf.float32\n",
    "c = tf.constant(4)\n",
    "total = a + b\n",
    "print(a)\n",
    "print(b)\n",
    "print(c)\n",
    "print(total)  # 张量是根据生成它们的指令命名的，后面跟着输出索引"
   ]
  },
  {
   "cell_type": "code",
   "execution_count": 3,
   "metadata": {},
   "outputs": [],
   "source": [
    "writer = tf.summary.FileWriter('.')  # 将在当前目录中生成一个 event 文件\n",
    "writer.add_graph(tf.get_default_graph())\n",
    "# 名称格式:events.out.tfevents.{timestamp}.{hostname}"
   ]
  },
  {
   "cell_type": "code",
   "execution_count": 4,
   "metadata": {
    "collapsed": true
   },
   "outputs": [
    {
     "name": "stderr",
     "output_type": "stream",
     "text": [
      "Traceback (most recent call last):\n",
      "  File \"c:\\users\\lxg\\appdata\\local\\programs\\python\\python36\\lib\\runpy.py\", line 193, in _run_module_as_main\n",
      "    \"__main__\", mod_spec)\n",
      "  File \"c:\\users\\lxg\\appdata\\local\\programs\\python\\python36\\lib\\runpy.py\", line 85, in _run_code\n",
      "    exec(code, run_globals)\n",
      "  File \"C:\\Users\\lxg\\AppData\\Local\\Programs\\Python\\Python36\\Scripts\\tensorboard.exe\\__main__.py\", line 9, in <module>\n",
      "  File \"c:\\users\\lxg\\appdata\\local\\programs\\python\\python36\\lib\\site-packages\\tensorboard\\main.py\", line 58, in run_main\n",
      "    app.run(tensorboard.main, flags_parser=tensorboard.configure)\n",
      "  File \"c:\\users\\lxg\\appdata\\local\\programs\\python\\python36\\lib\\site-packages\\absl\\app.py\", line 300, in run\n",
      "    _run_main(main, args)\n",
      "  File \"c:\\users\\lxg\\appdata\\local\\programs\\python\\python36\\lib\\site-packages\\absl\\app.py\", line 251, in _run_main\n",
      "    sys.exit(main(argv))\n",
      "  File \"c:\\users\\lxg\\appdata\\local\\programs\\python\\python36\\lib\\site-packages\\tensorboard\\program.py\", line 194, in main\n",
      "    server = self._make_server()\n",
      "  File \"c:\\users\\lxg\\appdata\\local\\programs\\python\\python36\\lib\\site-packages\\tensorboard\\program.py\", line 230, in _make_server\n",
      "    return self.server_class(app, self.flags)\n",
      "  File \"c:\\users\\lxg\\appdata\\local\\programs\\python\\python36\\lib\\site-packages\\tensorboard\\program.py\", line 283, in __init__\n",
      "    super(WerkzeugServer, self).__init__(host, flags.port, wsgi_app)\n",
      "  File \"c:\\users\\lxg\\appdata\\local\\programs\\python\\python36\\lib\\site-packages\\werkzeug\\serving.py\", line 577, in __init__\n",
      "    self.address_family), handler)\n",
      "  File \"c:\\users\\lxg\\appdata\\local\\programs\\python\\python36\\lib\\socketserver.py\", line 453, in __init__\n",
      "    self.server_bind()\n",
      "  File \"c:\\users\\lxg\\appdata\\local\\programs\\python\\python36\\lib\\site-packages\\tensorboard\\program.py\", line 358, in server_bind\n",
      "    super(WerkzeugServer, self).server_bind()\n",
      "  File \"c:\\users\\lxg\\appdata\\local\\programs\\python\\python36\\lib\\http\\server.py\", line 138, in server_bind\n",
      "    self.server_name = socket.getfqdn(host)\n",
      "  File \"c:\\users\\lxg\\appdata\\local\\programs\\python\\python36\\lib\\socket.py\", line 673, in getfqdn\n",
      "    hostname, aliases, ipaddrs = gethostbyaddr(name)\n",
      "UnicodeDecodeError: 'utf-8' codec can't decode byte 0xc0 in position 0: invalid start byte\n"
     ]
    }
   ],
   "source": [
    "# 新的终端中使用以下 shell 命令启动 TensorBoard\n",
    "!tensorboard --logdir .  "
   ]
  },
  {
   "cell_type": "code",
   "execution_count": 6,
   "metadata": {},
   "outputs": [
    {
     "name": "stdout",
     "output_type": "stream",
     "text": [
      "7.0\n"
     ]
    }
   ],
   "source": [
    "# 会话\n",
    "sess = tf.Session()\n",
    "print(sess.run(total))"
   ]
  },
  {
   "cell_type": "code",
   "execution_count": 7,
   "metadata": {},
   "outputs": [
    {
     "name": "stdout",
     "output_type": "stream",
     "text": [
      "{'ab': (3.0, 4.0), 'total': 7.0}\n"
     ]
    }
   ],
   "source": [
    "# 可以将多个张量传递给 tf.Session.run。run 方法以透明方式处理元组或字典的任何组合\n",
    "print(sess.run({'ab': (a, b), 'total': total}))"
   ]
  },
  {
   "cell_type": "code",
   "execution_count": 9,
   "metadata": {},
   "outputs": [
    {
     "name": "stdout",
     "output_type": "stream",
     "text": [
      "[0.40174532 0.61116004 0.9165559 ]\n",
      "(array([1.098931 , 1.0107367, 1.8000283], dtype=float32), array([2.0989308, 2.0107367, 2.8000283], dtype=float32))\n"
     ]
    }
   ],
   "source": [
    "vec = tf.random_uniform(shape=(3,))  # 值位于 [0,1) 区间内\n",
    "out1 = vec + 1\n",
    "out2 = vec + 2\n",
    "print(sess.run(vec))\n",
    "print(sess.run((out1, out2)))"
   ]
  },
  {
   "cell_type": "code",
   "execution_count": 10,
   "metadata": {},
   "outputs": [
    {
     "name": "stdout",
     "output_type": "stream",
     "text": [
      "7.5\n",
      "[3. 7.]\n"
     ]
    }
   ],
   "source": [
    "# 占位符表示承诺在稍后提供值，它就像函数参数\n",
    "x = tf.placeholder(tf.float32)\n",
    "y = tf.placeholder(tf.float32)\n",
    "z = x + y\n",
    "print(sess.run(z, feed_dict={x: 3, y: 4.5}))  # feed_dict 参数为占位符提供具体的值\n",
    "print(sess.run(z, feed_dict={x: [1, 3], y: [2, 4]}))"
   ]
  },
  {
   "cell_type": "code",
   "execution_count": 12,
   "metadata": {},
   "outputs": [
    {
     "name": "stdout",
     "output_type": "stream",
     "text": [
      "[0 1]\n",
      "[2 3]\n",
      "[4 5]\n",
      "[6 7]\n"
     ]
    }
   ],
   "source": [
    "# 要从数据集中获取可运行的 tf.Tensor，您必须先将其转换成 tf.data.Iterator，然后调用迭代器的 get_next 方法\n",
    "my_data = [\n",
    "    [0, 1,],\n",
    "    [2, 3,],\n",
    "    [4, 5,],\n",
    "    [6, 7,],\n",
    "]\n",
    "slices = tf.data.Dataset.from_tensor_slices(my_data)\n",
    "next_item = slices.make_one_shot_iterator().get_next()\n",
    "\n",
    "while True:\n",
    "    try:\n",
    "        print(sess.run(next_item))\n",
    "    except tf.errors.OutOfRangeError:\n",
    "        break"
   ]
  },
  {
   "cell_type": "code",
   "execution_count": 13,
   "metadata": {},
   "outputs": [
    {
     "name": "stdout",
     "output_type": "stream",
     "text": [
      "[ 0.9761834  -0.08618497 -1.6243111 ]\n",
      "[-2.0997748   1.6534332  -0.94701344]\n",
      "[-1.6254568  -0.7428545   0.43614793]\n",
      "[-3.1429133   0.01579424  0.20279098]\n",
      "[1.9987543 1.774132  1.6975774]\n",
      "[-2.2472281  -0.15737073  0.6753185 ]\n",
      "[-0.3184826 -0.3052357 -0.8068632]\n",
      "[-1.7214998  -0.43616045 -1.4863175 ]\n",
      "[ 1.3718286  -1.2475213  -0.73278815]\n",
      "[-0.9447189   0.08658594  0.81219304]\n"
     ]
    }
   ],
   "source": [
    "r = tf.random_normal([10,3])\n",
    "dataset = tf.data.Dataset.from_tensor_slices(r)\n",
    "# 如果 Dataset 依赖于有状态操作，则可能需要在使用迭代器之前先初始化它\n",
    "iterator = dataset.make_initializable_iterator()\n",
    "next_row = iterator.get_next()\n",
    "\n",
    "sess.run(iterator.initializer)\n",
    "while True:\n",
    "    try:\n",
    "        print(sess.run(next_row))\n",
    "    except tf.errors.OutOfRangeError:\n",
    "        break"
   ]
  },
  {
   "cell_type": "code",
   "execution_count": 15,
   "metadata": {},
   "outputs": [],
   "source": [
    "# 层将变量和作用于它们的操作打包在一起\n",
    "# 创建层\n",
    "x = tf.placeholder(tf.float32, shape=(None, 3))\n",
    "linear_model = tf.layers.Dense(units=1)  # 层\n",
    "y = linear_model(x)"
   ]
  },
  {
   "cell_type": "code",
   "execution_count": 16,
   "metadata": {},
   "outputs": [],
   "source": [
    "# 层包含的变量必须先初始化，然后才能使用\n",
    "# 初始化层\n",
    "init = tf.global_variables_initializer()\n",
    "sess.run(init)"
   ]
  },
  {
   "cell_type": "code",
   "execution_count": 17,
   "metadata": {},
   "outputs": [
    {
     "name": "stdout",
     "output_type": "stream",
     "text": [
      "[[ 0.4081741 ]\n",
      " [-0.00965703]]\n"
     ]
    }
   ],
   "source": [
    "# 执行层\n",
    "print(sess.run(y, {x:[[1, 2, 3], [4, 5, 6]]}))"
   ]
  },
  {
   "cell_type": "code",
   "execution_count": 20,
   "metadata": {},
   "outputs": [
    {
     "name": "stdout",
     "output_type": "stream",
     "text": [
      "[[-0.85936964]\n",
      " [-0.3459444 ]]\n"
     ]
    }
   ],
   "source": [
    "x = tf.placeholder(tf.float32, shape=[None, 3])\n",
    "y = tf.layers.dense(x, units=1)  # 层函数的快捷方式是在单次调用中创建和运行层\n",
    "\n",
    "init = tf.global_variables_initializer()\n",
    "sess.run(init)\n",
    "\n",
    "print(sess.run(y, {x: [[1,2,3],[4,5,6]]}))"
   ]
  },
  {
   "cell_type": "code",
   "execution_count": 26,
   "metadata": {},
   "outputs": [
    {
     "name": "stdout",
     "output_type": "stream",
     "text": [
      "WARNING:tensorflow:From c:\\users\\lxg\\appdata\\local\\programs\\python\\python36\\lib\\site-packages\\tensorflow\\python\\ops\\sparse_ops.py:1165: sparse_to_dense (from tensorflow.python.ops.sparse_ops) is deprecated and will be removed in a future version.\n",
      "Instructions for updating:\n",
      "Create a `tf.sparse.SparseTensor` and use `tf.sparse.to_dense` instead.\n"
     ]
    }
   ],
   "source": [
    "# 特征列\n",
    "features = {\n",
    "    'sales': [[5], [10], [8], [9]],\n",
    "    'department': ['sports', 'sports', 'gardening', 'gardening']\n",
    "}\n",
    "department_column = tf.feature_column.categorical_column_with_vocabulary_list(\n",
    "    'department', ['sports', 'gardening'])\n",
    "department_column = tf.feature_column.indicator_column(department_column)\n",
    "\n",
    "columns = [\n",
    "    tf.feature_column.numeric_column('sales'),\n",
    "    department_column\n",
    "]\n",
    "\n",
    "inputs = tf.feature_column.input_layer(features, columns)"
   ]
  },
  {
   "cell_type": "code",
   "execution_count": 27,
   "metadata": {},
   "outputs": [
    {
     "name": "stdout",
     "output_type": "stream",
     "text": [
      "[[ 1.  0.  5.]\n",
      " [ 1.  0. 10.]\n",
      " [ 0.  1.  8.]\n",
      " [ 0.  1.  9.]]\n"
     ]
    }
   ],
   "source": [
    "# 特征列和层一样具有内部状态，因此通常需要将它们初始化\n",
    "var_init = tf.global_variables_initializer()\n",
    "table_init = tf.tables_initializer()\n",
    "sess = tf.Session()\n",
    "sess.run((var_init, table_init))\n",
    "\n",
    "print(sess.run(inputs))  # 将department列 one-hot编码"
   ]
  },
  {
   "cell_type": "code",
   "execution_count": 29,
   "metadata": {},
   "outputs": [
    {
     "name": "stdout",
     "output_type": "stream",
     "text": [
      "[[0.45253623]\n",
      " [0.90507245]\n",
      " [1.3576087 ]\n",
      " [1.8101449 ]]\n"
     ]
    }
   ],
   "source": [
    "x = tf.constant([[1],[2],[3],[4]], dtype=tf.float32)\n",
    "y_true = tf.constant([[0],[-1],[-2],[-3]], dtype=tf.float32)\n",
    "\n",
    "linear_model = tf.layers.Dense(units=1)\n",
    "y_pred = linear_model(x)\n",
    "\n",
    "sess = tf.Session()\n",
    "init = tf.global_variables_initializer()\n",
    "sess.run(init)\n",
    "\n",
    "print(sess.run(y_pred))"
   ]
  },
  {
   "cell_type": "code",
   "execution_count": 31,
   "metadata": {},
   "outputs": [
    {
     "name": "stdout",
     "output_type": "stream",
     "text": [
      "9.56128\n"
     ]
    }
   ],
   "source": [
    "loss = tf.losses.mean_squared_error(labels=y_true, predictions=y_pred)\n",
    "print(sess.run(loss))  # 损失值"
   ]
  },
  {
   "cell_type": "code",
   "execution_count": 34,
   "metadata": {
    "scrolled": true
   },
   "outputs": [
    {
     "name": "stdout",
     "output_type": "stream",
     "text": [
      "9.56128\n",
      "9.254329\n",
      "8.957539\n",
      "8.670574\n",
      "8.393107\n",
      "8.124826\n",
      "7.865424\n",
      "7.6146092\n",
      "7.3720956\n",
      "7.137608\n",
      "6.910883\n",
      "6.6916614\n",
      "6.4796944\n",
      "6.2747436\n",
      "6.076574\n",
      "5.8849635\n",
      "5.6996937\n",
      "5.5205536\n",
      "5.3473425\n",
      "5.179863\n",
      "5.017924\n",
      "4.8613434\n",
      "4.709944\n",
      "4.563553\n",
      "4.4220047\n",
      "4.285139\n",
      "4.1528015\n",
      "4.0248413\n",
      "3.9011137\n",
      "3.7814784\n",
      "3.6658003\n",
      "3.553948\n",
      "3.4457946\n",
      "3.3412175\n",
      "3.240099\n",
      "3.1423235\n",
      "3.047781\n",
      "2.9563644\n",
      "2.86797\n",
      "2.7824981\n",
      "2.699851\n",
      "2.619936\n",
      "2.5426617\n",
      "2.4679418\n",
      "2.3956912\n",
      "2.3258276\n",
      "2.2582724\n",
      "2.1929495\n",
      "2.129784\n",
      "2.0687056\n",
      "2.009644\n",
      "1.9525334\n",
      "1.8973086\n",
      "1.8439075\n",
      "1.7922695\n",
      "1.742336\n",
      "1.694051\n",
      "1.6473596\n",
      "1.6022089\n",
      "1.5585482\n",
      "1.5163281\n",
      "1.4755006\n",
      "1.43602\n",
      "1.3978413\n",
      "1.3609216\n",
      "1.3252193\n",
      "1.2906935\n",
      "1.2573062\n",
      "1.2250189\n",
      "1.1937954\n",
      "1.1636004\n",
      "1.1344001\n",
      "1.1061614\n",
      "1.0788523\n",
      "1.0524423\n",
      "1.0269014\n",
      "1.0022008\n",
      "0.9783129\n",
      "0.9552106\n",
      "0.9328679\n",
      "0.9112598\n",
      "0.8903617\n",
      "0.8701504\n",
      "0.850603\n",
      "0.83169734\n",
      "0.8134123\n",
      "0.7957275\n",
      "0.77862287\n",
      "0.76207924\n",
      "0.7460781\n",
      "0.7306013\n",
      "0.71563184\n",
      "0.70115244\n",
      "0.68714726\n",
      "0.6736003\n",
      "0.6604966\n",
      "0.6478214\n",
      "0.63556063\n",
      "0.6237004\n",
      "0.61222744\n"
     ]
    }
   ],
   "source": [
    "# 优化器\n",
    "optimizer = tf.train.GradientDescentOptimizer(0.001)\n",
    "train = optimizer.minimize(loss)\n",
    "\n",
    "for i in range(100):\n",
    "    _, loss_value = sess.run((train, loss))\n",
    "    print(loss_value)"
   ]
  },
  {
   "cell_type": "code",
   "execution_count": 2,
   "metadata": {
    "scrolled": true
   },
   "outputs": [
    {
     "name": "stdout",
     "output_type": "stream",
     "text": [
      "0.22121112\n",
      "0.20604885\n",
      "0.19521381\n",
      "0.1873833\n",
      "0.18163931\n",
      "0.17734516\n",
      "0.1740587\n",
      "0.17147338\n",
      "0.16937637\n",
      "0.16762003\n",
      "0.16610183\n",
      "0.16475067\n",
      "0.16351718\n",
      "0.16236717\n",
      "0.16127677\n",
      "0.1602295\n",
      "0.15921393\n",
      "0.15822205\n",
      "0.15724833\n",
      "0.15628895\n",
      "0.15534116\n",
      "0.15440314\n",
      "0.1534735\n",
      "0.1525515\n",
      "0.15163629\n",
      "0.15072754\n",
      "0.14982489\n",
      "0.14892805\n",
      "0.14803691\n",
      "0.14715132\n",
      "0.1462712\n",
      "0.14539644\n",
      "0.14452696\n",
      "0.14366272\n",
      "0.1428037\n",
      "0.14194986\n",
      "0.14110112\n",
      "0.14025748\n",
      "0.13941887\n",
      "0.13858528\n",
      "0.13775672\n",
      "0.13693307\n",
      "0.13611437\n",
      "0.13530058\n",
      "0.13449164\n",
      "0.13368753\n",
      "0.13288821\n",
      "0.13209371\n",
      "0.13130397\n",
      "0.1305189\n",
      "0.12973855\n",
      "0.12896287\n",
      "0.1281918\n",
      "0.12742536\n",
      "0.12666352\n",
      "0.12590623\n",
      "0.12515344\n",
      "0.124405175\n",
      "0.12366138\n",
      "0.122922026\n",
      "0.12218711\n",
      "0.12145655\n",
      "0.1207304\n",
      "0.12000854\n",
      "0.11929101\n",
      "0.118577816\n",
      "0.11786887\n",
      "0.117164135\n",
      "0.11646365\n",
      "0.11576732\n",
      "0.115075186\n",
      "0.114387155\n",
      "0.11370322\n",
      "0.113023445\n",
      "0.11234769\n",
      "0.11167598\n",
      "0.111008264\n",
      "0.11034458\n",
      "0.10968483\n",
      "0.10902905\n",
      "0.10837717\n",
      "0.10772921\n",
      "0.10708512\n",
      "0.10644485\n",
      "0.10580845\n",
      "0.105175845\n",
      "0.104546994\n",
      "0.103921965\n",
      "0.103300616\n",
      "0.102683015\n",
      "0.10206907\n",
      "0.10145882\n",
      "0.10085222\n",
      "0.100249246\n",
      "0.09964987\n",
      "0.09905404\n",
      "0.09846184\n",
      "0.09787315\n",
      "0.09728799\n",
      "0.096706316\n",
      "[[-0.5006274]\n",
      " [-1.2425882]\n",
      " [-1.9845489]\n",
      " [-2.7265098]]\n"
     ]
    }
   ],
   "source": [
    "# 完整程序\n",
    "import tensorflow as tf\n",
    "\n",
    "x = tf.constant([[1],[2],[3],[4]], dtype=tf.float32)\n",
    "y_true = tf.constant([[0],[-1],[-2],[-3]], dtype=tf.float32)\n",
    "\n",
    "linear_model = tf.layers.Dense(units=1)\n",
    "\n",
    "y_pred = linear_model(x)\n",
    "loss = tf.losses.mean_squared_error(labels=y_true, predictions=y_pred)\n",
    "\n",
    "optimizer = tf.train.GradientDescentOptimizer(0.01)\n",
    "train = optimizer.minimize(loss)\n",
    "\n",
    "init = tf.global_variables_initializer()\n",
    "\n",
    "sess = tf.Session()\n",
    "sess.run(init)\n",
    "for i in range(100):\n",
    "    _, loss_value = sess.run((train, loss))\n",
    "    print(loss_value)\n",
    "\n",
    "print(sess.run(y_pred))"
   ]
  },
  {
   "cell_type": "code",
   "execution_count": null,
   "metadata": {},
   "outputs": [],
   "source": []
  }
 ],
 "metadata": {
  "kernelspec": {
   "display_name": "Python 3",
   "language": "python",
   "name": "python3"
  },
  "language_info": {
   "codemirror_mode": {
    "name": "ipython",
    "version": 3
   },
   "file_extension": ".py",
   "mimetype": "text/x-python",
   "name": "python",
   "nbconvert_exporter": "python",
   "pygments_lexer": "ipython3",
   "version": "3.6.7"
  }
 },
 "nbformat": 4,
 "nbformat_minor": 2
}
